{
 "cells": [
  {
   "cell_type": "code",
   "execution_count": 1,
   "metadata": {},
   "outputs": [],
   "source": [
    "from datetime import datetime\n",
    "import pandas as pd\n",
    "import numpy as np\n",
    "import matplotlib\n",
    "matplotlib.use('nbagg')\n",
    "\n",
    "import matplotlib.pyplot as plt\n",
    "plt.rcParams.update({'figure.max_open_warning': 0})\n",
    "\n",
    "import seaborn as sns\n",
    "sns.set_style('whitegrid')\n",
    "import os\n",
    "from scipy import sparse\n",
    "from scipy.sparse import csr_matrix\n",
    "\n",
    "from sklearn.decomposition import TruncatedSVD\n",
    "from sklearn.metrics.pairwise import cosine_similarity\n",
    "import random"
   ]
  },
  {
   "cell_type": "markdown",
   "metadata": {},
   "source": [
    "## Data Load"
   ]
  },
  {
   "cell_type": "code",
   "execution_count": 5,
   "metadata": {},
   "outputs": [
    {
     "name": "stdout",
     "output_type": "stream",
     "text": [
      "Reading ratings from D:/12S17037_Nita S W Sirait_Sistem Informasi/Kuliah/semester 7/dami/proyek/combined_data_1.txt...\n",
      "Done.\n",
      "\n",
      "Reading ratings from D:/12S17037_Nita S W Sirait_Sistem Informasi/Kuliah/semester 7/dami/proyek/combined_data_2.txt...\n",
      "Done.\n",
      "\n",
      "Reading ratings from D:/12S17037_Nita S W Sirait_Sistem Informasi/Kuliah/semester 7/dami/proyek/combined_data_3.txt...\n",
      "Done.\n",
      "\n",
      "Reading ratings from D:/12S17037_Nita S W Sirait_Sistem Informasi/Kuliah/semester 7/dami/proyek/combined_data_4.txt...\n",
      "Done.\n",
      "\n",
      "Time taken : 0:07:39.645830\n"
     ]
    }
   ],
   "source": [
    "start = datetime.now()\n",
    "if not os.path.isfile('metadata.csv'):\n",
    "    data = open('metadata.csv', mode='w')\n",
    "    row = list()\n",
    "    files=['D:/12S17037_Nita S W Sirait_Sistem Informasi/Kuliah/semester 7/dami/proyek/combined_data_1.txt','D:/12S17037_Nita S W Sirait_Sistem Informasi/Kuliah/semester 7/dami/proyek/combined_data_2.txt', \n",
    "           'D:/12S17037_Nita S W Sirait_Sistem Informasi/Kuliah/semester 7/dami/proyek/combined_data_3.txt', 'D:/12S17037_Nita S W Sirait_Sistem Informasi/Kuliah/semester 7/dami/proyek/combined_data_4.txt']\n",
    "    for file in files:\n",
    "        print(\"Reading ratings from {}...\".format(file))\n",
    "        with open(file) as f:\n",
    "            for line in f: \n",
    "                del row[:] # you don't have to do this.\n",
    "                line = line.strip()\n",
    "                if line.endswith(':'):\n",
    "                    # All below are ratings for this movie, until another movie appears.\n",
    "                    movie_id = line.replace(':', '')\n",
    "                else:\n",
    "                    row = [x for x in line.split(',')]\n",
    "                    row.insert(0, movie_id)\n",
    "                    data.write(','.join(row))\n",
    "                    data.write('\\n')\n",
    "        print(\"Done.\\n\")\n",
    "    data.close()\n",
    "print('Time taken :', datetime.now() - start)"
   ]
  },
  {
   "cell_type": "code",
   "execution_count": 6,
   "metadata": {},
   "outputs": [
    {
     "name": "stdout",
     "output_type": "stream",
     "text": [
      "membuat dataframe metadata.csv\n",
      "Done..\n",
      "\n",
      "Mengurutkan dataframe berdasarkan tanggal\n",
      "Done..\n"
     ]
    }
   ],
   "source": [
    "print(\"membuat dataframe metadata.csv\")\n",
    "df = pd.read_csv('metadata.csv', sep=',', \n",
    "                       names=['movie', 'user','rating','date'])\n",
    "df.date = pd.to_datetime(df.date)\n",
    "print('Done..\\n')\n",
    "\n",
    "# we are arranging the ratings according to time.\n",
    "print('Mengurutkan dataframe berdasarkan tanggal')\n",
    "df.sort_values(by='date', inplace=True)\n",
    "print('Done..')"
   ]
  },
  {
   "cell_type": "code",
   "execution_count": 7,
   "metadata": {},
   "outputs": [
    {
     "data": {
      "text/html": [
       "<div>\n",
       "<style scoped>\n",
       "    .dataframe tbody tr th:only-of-type {\n",
       "        vertical-align: middle;\n",
       "    }\n",
       "\n",
       "    .dataframe tbody tr th {\n",
       "        vertical-align: top;\n",
       "    }\n",
       "\n",
       "    .dataframe thead th {\n",
       "        text-align: right;\n",
       "    }\n",
       "</style>\n",
       "<table border=\"1\" class=\"dataframe\">\n",
       "  <thead>\n",
       "    <tr style=\"text-align: right;\">\n",
       "      <th></th>\n",
       "      <th>movie</th>\n",
       "      <th>user</th>\n",
       "      <th>rating</th>\n",
       "      <th>date</th>\n",
       "    </tr>\n",
       "  </thead>\n",
       "  <tbody>\n",
       "    <tr>\n",
       "      <th>56431994</th>\n",
       "      <td>10341</td>\n",
       "      <td>510180</td>\n",
       "      <td>4</td>\n",
       "      <td>1999-11-11</td>\n",
       "    </tr>\n",
       "    <tr>\n",
       "      <th>9056171</th>\n",
       "      <td>1798</td>\n",
       "      <td>510180</td>\n",
       "      <td>5</td>\n",
       "      <td>1999-11-11</td>\n",
       "    </tr>\n",
       "    <tr>\n",
       "      <th>58698779</th>\n",
       "      <td>10774</td>\n",
       "      <td>510180</td>\n",
       "      <td>3</td>\n",
       "      <td>1999-11-11</td>\n",
       "    </tr>\n",
       "    <tr>\n",
       "      <th>48101611</th>\n",
       "      <td>8651</td>\n",
       "      <td>510180</td>\n",
       "      <td>2</td>\n",
       "      <td>1999-11-11</td>\n",
       "    </tr>\n",
       "    <tr>\n",
       "      <th>81893208</th>\n",
       "      <td>14660</td>\n",
       "      <td>510180</td>\n",
       "      <td>2</td>\n",
       "      <td>1999-11-11</td>\n",
       "    </tr>\n",
       "  </tbody>\n",
       "</table>\n",
       "</div>"
      ],
      "text/plain": [
       "          movie    user  rating       date\n",
       "56431994  10341  510180       4 1999-11-11\n",
       "9056171    1798  510180       5 1999-11-11\n",
       "58698779  10774  510180       3 1999-11-11\n",
       "48101611   8651  510180       2 1999-11-11\n",
       "81893208  14660  510180       2 1999-11-11"
      ]
     },
     "execution_count": 7,
     "metadata": {},
     "output_type": "execute_result"
    }
   ],
   "source": [
    "df.head()"
   ]
  },
  {
   "cell_type": "code",
   "execution_count": 8,
   "metadata": {},
   "outputs": [
    {
     "data": {
      "text/html": [
       "<div>\n",
       "<style scoped>\n",
       "    .dataframe tbody tr th:only-of-type {\n",
       "        vertical-align: middle;\n",
       "    }\n",
       "\n",
       "    .dataframe tbody tr th {\n",
       "        vertical-align: top;\n",
       "    }\n",
       "\n",
       "    .dataframe thead th {\n",
       "        text-align: right;\n",
       "    }\n",
       "</style>\n",
       "<table border=\"1\" class=\"dataframe\">\n",
       "  <thead>\n",
       "    <tr style=\"text-align: right;\">\n",
       "      <th></th>\n",
       "      <th>movie</th>\n",
       "      <th>user</th>\n",
       "      <th>rating</th>\n",
       "      <th>date</th>\n",
       "    </tr>\n",
       "  </thead>\n",
       "  <tbody>\n",
       "    <tr>\n",
       "      <th>49939086</th>\n",
       "      <td>8993</td>\n",
       "      <td>2183787</td>\n",
       "      <td>4</td>\n",
       "      <td>2005-12-31</td>\n",
       "    </tr>\n",
       "    <tr>\n",
       "      <th>42072268</th>\n",
       "      <td>7430</td>\n",
       "      <td>258170</td>\n",
       "      <td>4</td>\n",
       "      <td>2005-12-31</td>\n",
       "    </tr>\n",
       "    <tr>\n",
       "      <th>47098649</th>\n",
       "      <td>8467</td>\n",
       "      <td>1534359</td>\n",
       "      <td>5</td>\n",
       "      <td>2005-12-31</td>\n",
       "    </tr>\n",
       "    <tr>\n",
       "      <th>55621336</th>\n",
       "      <td>10168</td>\n",
       "      <td>2543295</td>\n",
       "      <td>2</td>\n",
       "      <td>2005-12-31</td>\n",
       "    </tr>\n",
       "    <tr>\n",
       "      <th>25464092</th>\n",
       "      <td>4736</td>\n",
       "      <td>1346243</td>\n",
       "      <td>5</td>\n",
       "      <td>2005-12-31</td>\n",
       "    </tr>\n",
       "  </tbody>\n",
       "</table>\n",
       "</div>"
      ],
      "text/plain": [
       "          movie     user  rating       date\n",
       "49939086   8993  2183787       4 2005-12-31\n",
       "42072268   7430   258170       4 2005-12-31\n",
       "47098649   8467  1534359       5 2005-12-31\n",
       "55621336  10168  2543295       2 2005-12-31\n",
       "25464092   4736  1346243       5 2005-12-31"
      ]
     },
     "execution_count": 8,
     "metadata": {},
     "output_type": "execute_result"
    }
   ],
   "source": [
    "df.tail()"
   ]
  },
  {
   "cell_type": "markdown",
   "metadata": {},
   "source": [
    "## Cek NaN"
   ]
  },
  {
   "cell_type": "code",
   "execution_count": 9,
   "metadata": {},
   "outputs": [
    {
     "name": "stdout",
     "output_type": "stream",
     "text": [
      "tidak ada NaN pada dataframe :  0\n"
     ]
    }
   ],
   "source": [
    "print(\"tidak ada NaN pada dataframe : \", sum(df.isnull().any()))"
   ]
  },
  {
   "cell_type": "markdown",
   "metadata": {},
   "source": [
    "## Cek Jumlah Baris Data "
   ]
  },
  {
   "cell_type": "code",
   "execution_count": 13,
   "metadata": {},
   "outputs": [
    {
     "name": "stdout",
     "output_type": "stream",
     "text": [
      "Total data \n",
      "\n",
      "Total ratings : 100480507\n",
      "Total Users   : 480189\n",
      "Total movies  : 17770\n"
     ]
    }
   ],
   "source": [
    "print(\"Total data \")\n",
    "print(\"\\nTotal ratings :\",df.shape[0])\n",
    "print(\"Total Users   :\", len(np.unique(df.user)))\n",
    "print(\"Total movies  :\", len(np.unique(df.movie)))"
   ]
  },
  {
   "cell_type": "markdown",
   "metadata": {},
   "source": [
    "## Menghapus Nilai yang duplikat"
   ]
  },
  {
   "cell_type": "code",
   "execution_count": 14,
   "metadata": {},
   "outputs": [
    {
     "name": "stdout",
     "output_type": "stream",
     "text": [
      "Terdapat 0 Nilai rating pada metadata..\n"
     ]
    }
   ],
   "source": [
    "dup_bool = df.duplicated(['movie','user','rating'])\n",
    "dups = sum(dup_bool) # by considering all columns..( including timestamp)\n",
    "print(\"Terdapat {} Nilai rating pada metadata..\".format(dups))"
   ]
  },
  {
   "cell_type": "code",
   "execution_count": null,
   "metadata": {},
   "outputs": [],
   "source": []
  }
 ],
 "metadata": {
  "kernelspec": {
   "display_name": "Python 3",
   "language": "python",
   "name": "python3"
  },
  "language_info": {
   "codemirror_mode": {
    "name": "ipython",
    "version": 3
   },
   "file_extension": ".py",
   "mimetype": "text/x-python",
   "name": "python",
   "nbconvert_exporter": "python",
   "pygments_lexer": "ipython3",
   "version": "3.6.5"
  }
 },
 "nbformat": 4,
 "nbformat_minor": 2
}
