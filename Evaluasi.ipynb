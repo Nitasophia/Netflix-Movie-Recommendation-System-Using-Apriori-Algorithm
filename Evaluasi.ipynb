{
 "cells": [
  {
   "cell_type": "markdown",
   "metadata": {},
   "source": [
    "## Memanggil Library"
   ]
  },
  {
   "cell_type": "code",
   "execution_count": 1,
   "metadata": {
    "scrolled": true
   },
   "outputs": [],
   "source": [
    "import pandas as pd\n",
    "import numpy as np\n",
    "import math\n",
    "import re\n",
    "import matplotlib.pyplot as plt"
   ]
  },
  {
   "cell_type": "markdown",
   "metadata": {},
   "source": [
    "## Memanggil Dataset"
   ]
  },
  {
   "cell_type": "markdown",
   "metadata": {},
   "source": [
    "Memanggil data1 yang berisi combined_data_1"
   ]
  },
  {
   "cell_type": "code",
   "execution_count": 2,
   "metadata": {},
   "outputs": [
    {
     "name": "stdout",
     "output_type": "stream",
     "text": [
      "Data1 shape: (24058263, 2)\n",
      "          Cust_Id  Rating\n",
      "0              1:     NaN\n",
      "5000000   2560324     4.0\n",
      "10000000  2271935     2.0\n",
      "15000000  1921803     2.0\n",
      "20000000  1933327     3.0\n"
     ]
    }
   ],
   "source": [
    "data1 = pd.read_csv('./combined_data_1.txt', header = None, names = ['Cust_Id', 'Rating'], usecols = [0,1])\n",
    "data1['Rating'] = data1['Rating'].astype(float)\n",
    "print('Data1 shape: {}'.format(data1.shape))\n",
    "print(data1.iloc[::5000000, :])"
   ]
  },
  {
   "cell_type": "markdown",
   "metadata": {},
   "source": [
    "Memanggil data2 yang berisi combined_data_2"
   ]
  },
  {
   "cell_type": "code",
   "execution_count": 3,
   "metadata": {},
   "outputs": [
    {
     "name": "stdout",
     "output_type": "stream",
     "text": [
      "Data2 shape: (26982302, 2)\n",
      "          Cust_Id  Rating\n",
      "0           4500:     NaN\n",
      "5000000    485565     2.0\n",
      "10000000  1155911     2.0\n",
      "15000000   121369     3.0\n",
      "20000000  1277779     3.0\n",
      "25000000   252632     5.0\n"
     ]
    }
   ],
   "source": [
    "data2 = pd.read_csv('./combined_data_2.txt', header = None, names = ['Cust_Id', 'Rating'], usecols = [0,1])\n",
    "data2['Rating'] = data2['Rating'].astype(float)\n",
    "print('Data2 shape: {}'.format(data2.shape))\n",
    "print(data2.iloc[::5000000, :])"
   ]
  },
  {
   "cell_type": "markdown",
   "metadata": {},
   "source": [
    "Memanggil data3 yang berisi combined_data_3"
   ]
  },
  {
   "cell_type": "code",
   "execution_count": 4,
   "metadata": {},
   "outputs": [
    {
     "name": "stdout",
     "output_type": "stream",
     "text": [
      "Data3 shape: (22605786, 2)\n",
      "          Cust_Id  Rating\n",
      "0           9211:     NaN\n",
      "5000000   2071383     4.0\n",
      "10000000  2485184     5.0\n",
      "15000000   765311     2.0\n",
      "20000000  1260161     3.0\n"
     ]
    }
   ],
   "source": [
    "data3 = pd.read_csv('./combined_data_3.txt', header = None, names = ['Cust_Id', 'Rating'], usecols = [0,1])\n",
    "data3['Rating'] = data3['Rating'].astype(float)\n",
    "print('Data3 shape: {}'.format(data3.shape))\n",
    "print(data3.iloc[::5000000, :])"
   ]
  },
  {
   "cell_type": "markdown",
   "metadata": {},
   "source": [
    "Memanggil data4 yang berisi combined_data_4"
   ]
  },
  {
   "cell_type": "code",
   "execution_count": 5,
   "metadata": {},
   "outputs": [
    {
     "name": "stdout",
     "output_type": "stream",
     "text": [
      "Data4 shape: (26851926, 2)\n",
      "          Cust_Id  Rating\n",
      "0          13368:     NaN\n",
      "5000000    605496     5.0\n",
      "10000000   285173     5.0\n",
      "15000000   604335     5.0\n",
      "20000000  2503632     5.0\n",
      "25000000   470744     3.0\n"
     ]
    }
   ],
   "source": [
    "data4 = pd.read_csv('./combined_data_4.txt', header = None, names = ['Cust_Id', 'Rating'], usecols = [0,1])\n",
    "data4['Rating'] = data4['Rating'].astype(float)\n",
    "print('Data4 shape: {}'.format(data4.shape))\n",
    "print(data4.iloc[::5000000, :])"
   ]
  },
  {
   "cell_type": "markdown",
   "metadata": {},
   "source": [
    "## Merge Dataset"
   ]
  },
  {
   "cell_type": "markdown",
   "metadata": {},
   "source": [
    "Merge dataset data_combined_1 hingga data_combined_4"
   ]
  },
  {
   "cell_type": "code",
   "execution_count": 6,
   "metadata": {},
   "outputs": [
    {
     "name": "stdout",
     "output_type": "stream",
     "text": [
      "merge dataset shape: (24058263, 2)\n",
      "          Cust_Id  Rating\n",
      "0              1:     NaN\n",
      "5000000   2560324     4.0\n",
      "10000000  2271935     2.0\n",
      "15000000  1921803     2.0\n",
      "20000000  1933327     3.0\n"
     ]
    }
   ],
   "source": [
    "merge_dataset = data1\n",
    "merge_dataset.index = np.arange(0,len(merge_dataset))\n",
    "print('merge dataset shape: {}'.format(merge_dataset.shape))\n",
    "print(merge_dataset.iloc[::5000000, :])"
   ]
  },
  {
   "cell_type": "markdown",
   "metadata": {},
   "source": [
    "Mencari jumlah movies, customer, dan ratings"
   ]
  },
  {
   "cell_type": "code",
   "execution_count": 7,
   "metadata": {},
   "outputs": [
    {
     "data": {
      "image/png": "[encoded data removed]",
      "text/plain": [
       "<Figure size 1080x720 with 1 Axes>"
      ]
     },
     "metadata": {},
     "output_type": "display_data"
    }
   ],
   "source": [
    "p = merge_dataset.groupby('Rating')['Rating'].agg(['count'])\n",
    "\n",
    "movie_count = merge_dataset.isnull().sum()[1]\n",
    "\n",
    "cust_count = merge_dataset['Cust_Id'].nunique() - movie_count\n",
    "\n",
    "rating_count = merge_dataset['Cust_Id'].count() - movie_count\n",
    "\n",
    "ax = p.plot(kind = 'barh', legend = False, figsize = (15,10))\n",
    "plt.title('Total pool: {:,} Movies, {:,} customers, {:,} ratings given'.format(movie_count, cust_count, rating_count), fontsize=20)\n",
    "plt.axis('off')\n",
    "\n",
    "for i in range(1,6):\n",
    "    ax.text(p.iloc[i-1][0]/4, i-1, 'Rating {}: {:.0f}%'.format(i, p.iloc[i-1][0]*100 / p.sum()[0]), color = 'white', weight = 'bold')\n",
    "            "
   ]
  },
  {
   "cell_type": "markdown",
   "metadata": {},
   "source": [
    "## Data Cleaning"
   ]
  },
  {
   "cell_type": "code",
   "execution_count": 8,
   "metadata": {},
   "outputs": [
    {
     "name": "stdout",
     "output_type": "stream",
     "text": [
      "Movie numpy: [1.000e+00 1.000e+00 1.000e+00 ... 4.499e+03 4.499e+03 4.499e+03]\n",
      "Length: 24053764\n"
     ]
    }
   ],
   "source": [
    "merge_dataset_nan = pd.DataFrame(pd.isnull(merge_dataset.Rating))\n",
    "merge_dataset_nan = merge_dataset_nan[merge_dataset_nan['Rating'] == True]\n",
    "merge_dataset_nan = merge_dataset_nan.reset_index()\n",
    "\n",
    "movie_np = []\n",
    "movie_id = 1\n",
    "\n",
    "for i,j in zip(merge_dataset_nan['index'][1:],merge_dataset_nan['index'][:-1]):\n",
    "    # numpy approach\n",
    "    temp = np.full((1,i-j-1), movie_id)\n",
    "    movie_np = np.append(movie_np, temp)\n",
    "    movie_id += 1\n",
    "\n",
    "# Account for last record and corresponding length\n",
    "# numpy approach\n",
    "last_record = np.full((1,len(merge_dataset) - merge_dataset_nan.iloc[-1, 0] - 1),movie_id)\n",
    "movie_np = np.append(movie_np, last_record)\n",
    "\n",
    "print('Movie numpy: {}'.format(movie_np))\n",
    "print('Length: {}'.format(len(movie_np)))"
   ]
  },
  {
   "cell_type": "code",
   "execution_count": 9,
   "metadata": {},
   "outputs": [
    {
     "name": "stderr",
     "output_type": "stream",
     "text": [
      "C:\\Users\\Personal\\Anaconda3\\lib\\site-packages\\ipykernel_launcher.py:2: SettingWithCopyWarning: \n",
      "A value is trying to be set on a copy of a slice from a DataFrame.\n",
      "Try using .loc[row_indexer,col_indexer] = value instead\n",
      "\n",
      "See the caveats in the documentation: http://pandas.pydata.org/pandas-docs/stable/user_guide/indexing.html#returning-a-view-versus-a-copy\n",
      "  \n"
     ]
    },
    {
     "name": "stdout",
     "output_type": "stream",
     "text": [
      "          Cust_Id  Rating  Movie_Id\n",
      "1         1488844     3.0         1\n",
      "5000996    501954     2.0       996\n",
      "10001962   404654     5.0      1962\n",
      "15002876   886608     2.0      2876\n",
      "20003825  1193835     2.0      3825\n"
     ]
    },
    {
     "name": "stderr",
     "output_type": "stream",
     "text": [
      "C:\\Users\\Personal\\Anaconda3\\lib\\site-packages\\ipykernel_launcher.py:3: SettingWithCopyWarning: \n",
      "A value is trying to be set on a copy of a slice from a DataFrame.\n",
      "Try using .loc[row_indexer,col_indexer] = value instead\n",
      "\n",
      "See the caveats in the documentation: http://pandas.pydata.org/pandas-docs/stable/user_guide/indexing.html#returning-a-view-versus-a-copy\n",
      "  This is separate from the ipykernel package so we can avoid doing imports until\n"
     ]
    }
   ],
   "source": [
    "merge_dataset = merge_dataset[pd.notnull(merge_dataset['Rating'])]\n",
    "merge_dataset['Movie_Id'] = movie_np.astype(int)\n",
    "merge_dataset['Cust_Id'] = merge_dataset['Cust_Id'].astype(int)\n",
    "print(merge_dataset.iloc[::5000000, :])"
   ]
  },
  {
   "cell_type": "code",
   "execution_count": 10,
   "metadata": {},
   "outputs": [
    {
     "name": "stdout",
     "output_type": "stream",
     "text": [
      "Movie minimum times of review: 1799.0\n",
      "Customer minimum times of review: 52.0\n"
     ]
    }
   ],
   "source": [
    "f = ['count','mean']\n",
    "merge_dataset_movie_summary = merge_dataset.groupby('Movie_Id')['Rating'].agg(f)\n",
    "merge_dataset_movie_summary.index = merge_dataset_movie_summary.index.map(int)\n",
    "movie_benchmark = round(merge_dataset_movie_summary['count'].quantile(0.7),0)\n",
    "drop_movie_list = merge_dataset_movie_summary[merge_dataset_movie_summary['count'] < movie_benchmark].index\n",
    "\n",
    "print('Movie minimum times of review: {}'.format(movie_benchmark))\n",
    "\n",
    "merge_dataset_cust_summary = merge_dataset.groupby('Cust_Id')['Rating'].agg(f)\n",
    "merge_dataset_cust_summary.index = merge_dataset_cust_summary.index.map(int)\n",
    "cust_benchmark = round(merge_dataset_cust_summary['count'].quantile(0.7),0)\n",
    "drop_cust_list = merge_dataset_cust_summary[merge_dataset_cust_summary['count'] < cust_benchmark].index\n",
    "\n",
    "print('Customer minimum times of review: {}'.format(cust_benchmark))"
   ]
  },
  {
   "cell_type": "code",
   "execution_count": 11,
   "metadata": {},
   "outputs": [
    {
     "name": "stdout",
     "output_type": "stream",
     "text": [
      "          Cust_Id  Rating  Movie_Id\n",
      "696        712664     5.0         3\n",
      "6932490   1299309     5.0      1384\n",
      "13860273   400155     3.0      2660\n",
      "20766530   466962     4.0      3923\n"
     ]
    }
   ],
   "source": [
    "merge_dataset = merge_dataset[~merge_dataset['Movie_Id'].isin(drop_movie_list)]\n",
    "merge_dataset = merge_dataset[~merge_dataset['Cust_Id'].isin(drop_cust_list)]\n",
    "print(merge_dataset.iloc[::5000000, :])"
   ]
  },
  {
   "cell_type": "code",
   "execution_count": 12,
   "metadata": {
    "scrolled": true
   },
   "outputs": [
    {
     "name": "stdout",
     "output_type": "stream",
     "text": [
      "(143458, 1350)\n"
     ]
    }
   ],
   "source": [
    "merge_dataset_p = pd.pivot_table(merge_dataset,values='Rating',index='Cust_Id',columns='Movie_Id')\n",
    "\n",
    "print(merge_dataset_p.shape)"
   ]
  },
  {
   "cell_type": "markdown",
   "metadata": {},
   "source": [
    "## Data Mapping"
   ]
  },
  {
   "cell_type": "code",
   "execution_count": 13,
   "metadata": {},
   "outputs": [
    {
     "data": {
      "text/html": [
       "<div>\n",
       "<style scoped>\n",
       "    .dataframe tbody tr th:only-of-type {\n",
       "        vertical-align: middle;\n",
       "    }\n",
       "\n",
       "    .dataframe tbody tr th {\n",
       "        vertical-align: top;\n",
       "    }\n",
       "\n",
       "    .dataframe thead th {\n",
       "        text-align: right;\n",
       "    }\n",
       "</style>\n",
       "<table border=\"1\" class=\"dataframe\">\n",
       "  <thead>\n",
       "    <tr style=\"text-align: right;\">\n",
       "      <th></th>\n",
       "      <th>1</th>\n",
       "      <th>2003</th>\n",
       "      <th>Dinosaur Planet</th>\n",
       "      <th>Unnamed: 3</th>\n",
       "      <th>Unnamed: 4</th>\n",
       "      <th>Unnamed: 5</th>\n",
       "    </tr>\n",
       "  </thead>\n",
       "  <tbody>\n",
       "    <tr>\n",
       "      <th>0</th>\n",
       "      <td>2</td>\n",
       "      <td>2004.0</td>\n",
       "      <td>Isle of Man TT 2004 Review</td>\n",
       "      <td>NaN</td>\n",
       "      <td>NaN</td>\n",
       "      <td>NaN</td>\n",
       "    </tr>\n",
       "    <tr>\n",
       "      <th>1</th>\n",
       "      <td>3</td>\n",
       "      <td>1997.0</td>\n",
       "      <td>Character</td>\n",
       "      <td>NaN</td>\n",
       "      <td>NaN</td>\n",
       "      <td>NaN</td>\n",
       "    </tr>\n",
       "    <tr>\n",
       "      <th>2</th>\n",
       "      <td>4</td>\n",
       "      <td>1994.0</td>\n",
       "      <td>Paula Abdul's Get Up &amp; Dance</td>\n",
       "      <td>NaN</td>\n",
       "      <td>NaN</td>\n",
       "      <td>NaN</td>\n",
       "    </tr>\n",
       "    <tr>\n",
       "      <th>3</th>\n",
       "      <td>5</td>\n",
       "      <td>2004.0</td>\n",
       "      <td>The Rise and Fall of ECW</td>\n",
       "      <td>NaN</td>\n",
       "      <td>NaN</td>\n",
       "      <td>NaN</td>\n",
       "    </tr>\n",
       "    <tr>\n",
       "      <th>4</th>\n",
       "      <td>6</td>\n",
       "      <td>1997.0</td>\n",
       "      <td>Sick</td>\n",
       "      <td>NaN</td>\n",
       "      <td>NaN</td>\n",
       "      <td>NaN</td>\n",
       "    </tr>\n",
       "    <tr>\n",
       "      <th>5</th>\n",
       "      <td>7</td>\n",
       "      <td>1992.0</td>\n",
       "      <td>8 Man</td>\n",
       "      <td>NaN</td>\n",
       "      <td>NaN</td>\n",
       "      <td>NaN</td>\n",
       "    </tr>\n",
       "    <tr>\n",
       "      <th>6</th>\n",
       "      <td>8</td>\n",
       "      <td>2004.0</td>\n",
       "      <td>What the #$*! Do We Know!?</td>\n",
       "      <td>NaN</td>\n",
       "      <td>NaN</td>\n",
       "      <td>NaN</td>\n",
       "    </tr>\n",
       "    <tr>\n",
       "      <th>7</th>\n",
       "      <td>9</td>\n",
       "      <td>1991.0</td>\n",
       "      <td>Class of Nuke 'Em High 2</td>\n",
       "      <td>NaN</td>\n",
       "      <td>NaN</td>\n",
       "      <td>NaN</td>\n",
       "    </tr>\n",
       "    <tr>\n",
       "      <th>8</th>\n",
       "      <td>10</td>\n",
       "      <td>2001.0</td>\n",
       "      <td>Fighter</td>\n",
       "      <td>NaN</td>\n",
       "      <td>NaN</td>\n",
       "      <td>NaN</td>\n",
       "    </tr>\n",
       "    <tr>\n",
       "      <th>9</th>\n",
       "      <td>11</td>\n",
       "      <td>1999.0</td>\n",
       "      <td>Full Frame: Documentary Shorts</td>\n",
       "      <td>NaN</td>\n",
       "      <td>NaN</td>\n",
       "      <td>NaN</td>\n",
       "    </tr>\n",
       "  </tbody>\n",
       "</table>\n",
       "</div>"
      ],
      "text/plain": [
       "    1    2003                 Dinosaur Planet Unnamed: 3 Unnamed: 4 Unnamed: 5\n",
       "0   2  2004.0      Isle of Man TT 2004 Review        NaN        NaN        NaN\n",
       "1   3  1997.0                       Character        NaN        NaN        NaN\n",
       "2   4  1994.0    Paula Abdul's Get Up & Dance        NaN        NaN        NaN\n",
       "3   5  2004.0        The Rise and Fall of ECW        NaN        NaN        NaN\n",
       "4   6  1997.0                            Sick        NaN        NaN        NaN\n",
       "5   7  1992.0                           8 Man        NaN        NaN        NaN\n",
       "6   8  2004.0      What the #$*! Do We Know!?        NaN        NaN        NaN\n",
       "7   9  1991.0        Class of Nuke 'Em High 2        NaN        NaN        NaN\n",
       "8  10  2001.0                         Fighter        NaN        NaN        NaN\n",
       "9  11  1999.0  Full Frame: Documentary Shorts        NaN        NaN        NaN"
      ]
     },
     "execution_count": 13,
     "metadata": {},
     "output_type": "execute_result"
    }
   ],
   "source": [
    "merge_dataset_title = pd.read_csv('./movie_titles.csv', encoding='ISO-8859-1')\n",
    "merge_dataset_title.head(10)"
   ]
  },
  {
   "cell_type": "code",
   "execution_count": 14,
   "metadata": {},
   "outputs": [
    {
     "data": {
      "text/html": [
       "<div>\n",
       "<style scoped>\n",
       "    .dataframe tbody tr th:only-of-type {\n",
       "        vertical-align: middle;\n",
       "    }\n",
       "\n",
       "    .dataframe tbody tr th {\n",
       "        vertical-align: top;\n",
       "    }\n",
       "\n",
       "    .dataframe thead th {\n",
       "        text-align: right;\n",
       "    }\n",
       "</style>\n",
       "<table border=\"1\" class=\"dataframe\">\n",
       "  <thead>\n",
       "    <tr style=\"text-align: right;\">\n",
       "      <th></th>\n",
       "      <th>movie_id</th>\n",
       "      <th>year</th>\n",
       "      <th>title</th>\n",
       "    </tr>\n",
       "  </thead>\n",
       "  <tbody>\n",
       "    <tr>\n",
       "      <th>0</th>\n",
       "      <td>2</td>\n",
       "      <td>2004.0</td>\n",
       "      <td>Isle of Man TT 2004 Review</td>\n",
       "    </tr>\n",
       "    <tr>\n",
       "      <th>1</th>\n",
       "      <td>3</td>\n",
       "      <td>1997.0</td>\n",
       "      <td>Character</td>\n",
       "    </tr>\n",
       "    <tr>\n",
       "      <th>2</th>\n",
       "      <td>4</td>\n",
       "      <td>1994.0</td>\n",
       "      <td>Paula Abdul's Get Up &amp; Dance</td>\n",
       "    </tr>\n",
       "    <tr>\n",
       "      <th>3</th>\n",
       "      <td>5</td>\n",
       "      <td>2004.0</td>\n",
       "      <td>The Rise and Fall of ECW</td>\n",
       "    </tr>\n",
       "    <tr>\n",
       "      <th>4</th>\n",
       "      <td>6</td>\n",
       "      <td>1997.0</td>\n",
       "      <td>Sick</td>\n",
       "    </tr>\n",
       "    <tr>\n",
       "      <th>5</th>\n",
       "      <td>7</td>\n",
       "      <td>1992.0</td>\n",
       "      <td>8 Man</td>\n",
       "    </tr>\n",
       "    <tr>\n",
       "      <th>6</th>\n",
       "      <td>8</td>\n",
       "      <td>2004.0</td>\n",
       "      <td>What the #$*! Do We Know!?</td>\n",
       "    </tr>\n",
       "    <tr>\n",
       "      <th>7</th>\n",
       "      <td>9</td>\n",
       "      <td>1991.0</td>\n",
       "      <td>Class of Nuke 'Em High 2</td>\n",
       "    </tr>\n",
       "    <tr>\n",
       "      <th>8</th>\n",
       "      <td>10</td>\n",
       "      <td>2001.0</td>\n",
       "      <td>Fighter</td>\n",
       "    </tr>\n",
       "    <tr>\n",
       "      <th>9</th>\n",
       "      <td>11</td>\n",
       "      <td>1999.0</td>\n",
       "      <td>Full Frame: Documentary Shorts</td>\n",
       "    </tr>\n",
       "  </tbody>\n",
       "</table>\n",
       "</div>"
      ],
      "text/plain": [
       "   movie_id    year                           title\n",
       "0         2  2004.0      Isle of Man TT 2004 Review\n",
       "1         3  1997.0                       Character\n",
       "2         4  1994.0    Paula Abdul's Get Up & Dance\n",
       "3         5  2004.0        The Rise and Fall of ECW\n",
       "4         6  1997.0                            Sick\n",
       "5         7  1992.0                           8 Man\n",
       "6         8  2004.0      What the #$*! Do We Know!?\n",
       "7         9  1991.0        Class of Nuke 'Em High 2\n",
       "8        10  2001.0                         Fighter\n",
       "9        11  1999.0  Full Frame: Documentary Shorts"
      ]
     },
     "execution_count": 14,
     "metadata": {},
     "output_type": "execute_result"
    }
   ],
   "source": [
    "merge_dataset_title = pd.read_csv('movie_titles.csv', encoding='ISO-8859-1')\n",
    "columns = ['Unnamed: 3', 'Unnamed: 4', 'Unnamed: 5']\n",
    "merge_dataset_title.drop(columns, inplace=True, axis=1)\n",
    "merge_dataset_title.columns = ['movie_id', 'year', 'title']\n",
    "merge_dataset_title.head(10)"
   ]
  },
  {
   "cell_type": "code",
   "execution_count": 15,
   "metadata": {},
   "outputs": [],
   "source": [
    "merge_dataset_title.to_csv(\"merge_dataset_title.csv\", index=False)"
   ]
  },
  {
   "cell_type": "markdown",
   "metadata": {},
   "source": [
    "## Info Data"
   ]
  },
  {
   "cell_type": "code",
   "execution_count": 16,
   "metadata": {},
   "outputs": [
    {
     "name": "stdout",
     "output_type": "stream",
     "text": [
      "Total Data:\n",
      "Total number of movie ratings = 17337458\n",
      "Number of unique customer = 143458\n",
      "Number of unique movies = 1350\n"
     ]
    }
   ],
   "source": [
    "print(\"Total Data:\")\n",
    "print(\"Total number of movie ratings = \"+str(merge_dataset.shape[0]))\n",
    "print(\"Number of unique customer = \"+str(len(np.unique(merge_dataset[\"Cust_Id\"]))))\n",
    "print(\"Number of unique movies = \"+str(len(np.unique(merge_dataset[\"Movie_Id\"]))))"
   ]
  },
  {
   "cell_type": "code",
   "execution_count": 17,
   "metadata": {},
   "outputs": [
    {
     "name": "stdout",
     "output_type": "stream",
     "text": [
      "<class 'pandas.core.frame.DataFrame'>\n",
      "Int64Index: 17337458 entries, 696 to 24056846\n",
      "Data columns (total 3 columns):\n",
      "Cust_Id     int32\n",
      "Rating      float64\n",
      "Movie_Id    int32\n",
      "dtypes: float64(1), int32(2)\n",
      "memory usage: 396.8 MB\n"
     ]
    }
   ],
   "source": [
    "merge_dataset.info()"
   ]
  },
  {
   "cell_type": "code",
   "execution_count": 18,
   "metadata": {},
   "outputs": [
    {
     "data": {
      "text/html": [
       "<div>\n",
       "<style scoped>\n",
       "    .dataframe tbody tr th:only-of-type {\n",
       "        vertical-align: middle;\n",
       "    }\n",
       "\n",
       "    .dataframe tbody tr th {\n",
       "        vertical-align: top;\n",
       "    }\n",
       "\n",
       "    .dataframe thead th {\n",
       "        text-align: right;\n",
       "    }\n",
       "</style>\n",
       "<table border=\"1\" class=\"dataframe\">\n",
       "  <thead>\n",
       "    <tr style=\"text-align: right;\">\n",
       "      <th></th>\n",
       "      <th>Cust_Id</th>\n",
       "      <th>Rating</th>\n",
       "      <th>Movie_Id</th>\n",
       "    </tr>\n",
       "  </thead>\n",
       "  <tbody>\n",
       "    <tr>\n",
       "      <th>count</th>\n",
       "      <td>1.733746e+07</td>\n",
       "      <td>1.733746e+07</td>\n",
       "      <td>1.733746e+07</td>\n",
       "    </tr>\n",
       "    <tr>\n",
       "      <th>mean</th>\n",
       "      <td>1.321158e+06</td>\n",
       "      <td>3.590570e+00</td>\n",
       "      <td>2.302783e+03</td>\n",
       "    </tr>\n",
       "    <tr>\n",
       "      <th>std</th>\n",
       "      <td>7.646923e+05</td>\n",
       "      <td>1.062665e+00</td>\n",
       "      <td>1.303458e+03</td>\n",
       "    </tr>\n",
       "    <tr>\n",
       "      <th>min</th>\n",
       "      <td>6.000000e+00</td>\n",
       "      <td>1.000000e+00</td>\n",
       "      <td>3.000000e+00</td>\n",
       "    </tr>\n",
       "    <tr>\n",
       "      <th>25%</th>\n",
       "      <td>6.602280e+05</td>\n",
       "      <td>3.000000e+00</td>\n",
       "      <td>1.176000e+03</td>\n",
       "    </tr>\n",
       "    <tr>\n",
       "      <th>50%</th>\n",
       "      <td>1.316775e+06</td>\n",
       "      <td>4.000000e+00</td>\n",
       "      <td>2.342000e+03</td>\n",
       "    </tr>\n",
       "    <tr>\n",
       "      <th>75%</th>\n",
       "      <td>1.983213e+06</td>\n",
       "      <td>4.000000e+00</td>\n",
       "      <td>3.433000e+03</td>\n",
       "    </tr>\n",
       "    <tr>\n",
       "      <th>max</th>\n",
       "      <td>2.649429e+06</td>\n",
       "      <td>5.000000e+00</td>\n",
       "      <td>4.496000e+03</td>\n",
       "    </tr>\n",
       "  </tbody>\n",
       "</table>\n",
       "</div>"
      ],
      "text/plain": [
       "            Cust_Id        Rating      Movie_Id\n",
       "count  1.733746e+07  1.733746e+07  1.733746e+07\n",
       "mean   1.321158e+06  3.590570e+00  2.302783e+03\n",
       "std    7.646923e+05  1.062665e+00  1.303458e+03\n",
       "min    6.000000e+00  1.000000e+00  3.000000e+00\n",
       "25%    6.602280e+05  3.000000e+00  1.176000e+03\n",
       "50%    1.316775e+06  4.000000e+00  2.342000e+03\n",
       "75%    1.983213e+06  4.000000e+00  3.433000e+03\n",
       "max    2.649429e+06  5.000000e+00  4.496000e+03"
      ]
     },
     "execution_count": 18,
     "metadata": {},
     "output_type": "execute_result"
    }
   ],
   "source": [
    "merge_dataset.describe()"
   ]
  },
  {
   "cell_type": "markdown",
   "metadata": {},
   "source": [
    "Melihat data yang null"
   ]
  },
  {
   "cell_type": "code",
   "execution_count": 19,
   "metadata": {},
   "outputs": [
    {
     "data": {
      "text/plain": [
       "Cust_Id     0\n",
       "Rating      0\n",
       "Movie_Id    0\n",
       "dtype: int64"
      ]
     },
     "execution_count": 19,
     "metadata": {},
     "output_type": "execute_result"
    }
   ],
   "source": [
    "merge_dataset.isna().sum()"
   ]
  },
  {
   "cell_type": "markdown",
   "metadata": {},
   "source": [
    "## Implementing Apriori Algorithm"
   ]
  },
  {
   "cell_type": "code",
   "execution_count": 21,
   "metadata": {},
   "outputs": [],
   "source": [
    "# Import library\n",
    "import pandas as pd\n",
    "from mlxtend.frequent_patterns import apriori\n",
    "from mlxtend.frequent_patterns import association_rules\n",
    "#mlxtend melakukan import fungsi apriori dan association_rules"
   ]
  },
  {
   "cell_type": "code",
   "execution_count": 22,
   "metadata": {},
   "outputs": [
    {
     "data": {
      "text/html": [
       "<div>\n",
       "<style scoped>\n",
       "    .dataframe tbody tr th:only-of-type {\n",
       "        vertical-align: middle;\n",
       "    }\n",
       "\n",
       "    .dataframe tbody tr th {\n",
       "        vertical-align: top;\n",
       "    }\n",
       "\n",
       "    .dataframe thead th {\n",
       "        text-align: right;\n",
       "    }\n",
       "</style>\n",
       "<table border=\"1\" class=\"dataframe\">\n",
       "  <thead>\n",
       "    <tr style=\"text-align: right;\">\n",
       "      <th></th>\n",
       "      <th>Cust_Id</th>\n",
       "      <th>Rating</th>\n",
       "      <th>Movie_Id</th>\n",
       "      <th>Populer</th>\n",
       "    </tr>\n",
       "  </thead>\n",
       "  <tbody>\n",
       "  </tbody>\n",
       "</table>\n",
       "</div>"
      ],
      "text/plain": [
       "Empty DataFrame\n",
       "Columns: [Cust_Id, Rating, Movie_Id, Populer]\n",
       "Index: []"
      ]
     },
     "execution_count": 22,
     "metadata": {},
     "output_type": "execute_result"
    }
   ],
   "source": [
    "# Merancang kondisi yang mengindikasi movie dengan rating terpopuler\n",
    "merge_dataset[\"Populer\"] = merge_dataset[\"Rating\"] > 3\n",
    "\n",
    "# Melihat fitur baru dengan menampilkan data set\n",
    "merge_dataset[10:15]\n",
    "\n",
    "merge_dataset[merge_dataset[\"Cust_Id\"] == 1][:5]"
   ]
  },
  {
   "cell_type": "code",
   "execution_count": 23,
   "metadata": {},
   "outputs": [
    {
     "data": {
      "text/html": [
       "<div>\n",
       "<style scoped>\n",
       "    .dataframe tbody tr th:only-of-type {\n",
       "        vertical-align: middle;\n",
       "    }\n",
       "\n",
       "    .dataframe tbody tr th {\n",
       "        vertical-align: top;\n",
       "    }\n",
       "\n",
       "    .dataframe thead th {\n",
       "        text-align: right;\n",
       "    }\n",
       "</style>\n",
       "<table border=\"1\" class=\"dataframe\">\n",
       "  <thead>\n",
       "    <tr style=\"text-align: right;\">\n",
       "      <th></th>\n",
       "      <th>Cust_Id</th>\n",
       "      <th>Rating</th>\n",
       "      <th>Movie_Id</th>\n",
       "      <th>Populer</th>\n",
       "    </tr>\n",
       "  </thead>\n",
       "  <tbody>\n",
       "    <tr>\n",
       "      <th>696</th>\n",
       "      <td>712664</td>\n",
       "      <td>5.0</td>\n",
       "      <td>3</td>\n",
       "      <td>True</td>\n",
       "    </tr>\n",
       "    <tr>\n",
       "      <th>697</th>\n",
       "      <td>1331154</td>\n",
       "      <td>4.0</td>\n",
       "      <td>3</td>\n",
       "      <td>True</td>\n",
       "    </tr>\n",
       "    <tr>\n",
       "      <th>698</th>\n",
       "      <td>2632461</td>\n",
       "      <td>3.0</td>\n",
       "      <td>3</td>\n",
       "      <td>False</td>\n",
       "    </tr>\n",
       "    <tr>\n",
       "      <th>699</th>\n",
       "      <td>44937</td>\n",
       "      <td>5.0</td>\n",
       "      <td>3</td>\n",
       "      <td>True</td>\n",
       "    </tr>\n",
       "    <tr>\n",
       "      <th>700</th>\n",
       "      <td>656399</td>\n",
       "      <td>4.0</td>\n",
       "      <td>3</td>\n",
       "      <td>True</td>\n",
       "    </tr>\n",
       "  </tbody>\n",
       "</table>\n",
       "</div>"
      ],
      "text/plain": [
       "     Cust_Id  Rating  Movie_Id  Populer\n",
       "696   712664     5.0         3     True\n",
       "697  1331154     4.0         3     True\n",
       "698  2632461     3.0         3    False\n",
       "699    44937     5.0         3     True\n",
       "700   656399     4.0         3     True"
      ]
     },
     "execution_count": 23,
     "metadata": {},
     "output_type": "execute_result"
    }
   ],
   "source": [
    "# Menampilkan movie dengan rating terpopuler\n",
    "merge_dataset.head()"
   ]
  },
  {
   "cell_type": "code",
   "execution_count": 24,
   "metadata": {},
   "outputs": [],
   "source": [
    "# Mengambil sampel data set untuk membentuk training set\n",
    "# Mendapatkan semua ulasan dari 3000 customer pertama\n",
    "ratings = merge_dataset[merge_dataset['Cust_Id'].isin(range(3000))]"
   ]
  },
  {
   "cell_type": "code",
   "execution_count": 25,
   "metadata": {},
   "outputs": [],
   "source": [
    "# Membuat data set dari ulasan yang baik saja di dalam sampel\n",
    "favorable_ratings = ratings[ratings[\"Populer\"]]"
   ]
  },
  {
   "cell_type": "code",
   "execution_count": 26,
   "metadata": {},
   "outputs": [],
   "source": [
    "# Mencari ulasan yang menguntungkan dari pengguna untuk itemset (film yang setiap pengguna telah memberikan ulasan yang baik)\n",
    "# Mengelompokkan dataset oleh Cust_Id dan iterasi atas film di setiap kelompok\n",
    "favorable_reviews_by_customers = dict((k, frozenset(v.values)) for k, v in favorable_ratings.groupby(\"Cust_Id\")[\"Movie_Id\"])"
   ]
  },
  {
   "cell_type": "code",
   "execution_count": 27,
   "metadata": {},
   "outputs": [
    {
     "data": {
      "text/html": [
       "<div>\n",
       "<style scoped>\n",
       "    .dataframe tbody tr th:only-of-type {\n",
       "        vertical-align: middle;\n",
       "    }\n",
       "\n",
       "    .dataframe tbody tr th {\n",
       "        vertical-align: top;\n",
       "    }\n",
       "\n",
       "    .dataframe thead th {\n",
       "        text-align: right;\n",
       "    }\n",
       "</style>\n",
       "<table border=\"1\" class=\"dataframe\">\n",
       "  <thead>\n",
       "    <tr style=\"text-align: right;\">\n",
       "      <th></th>\n",
       "      <th>Populer</th>\n",
       "    </tr>\n",
       "    <tr>\n",
       "      <th>Movie_Id</th>\n",
       "      <th></th>\n",
       "    </tr>\n",
       "  </thead>\n",
       "  <tbody>\n",
       "    <tr>\n",
       "      <th>4306</th>\n",
       "      <td>94.0</td>\n",
       "    </tr>\n",
       "    <tr>\n",
       "      <th>1905</th>\n",
       "      <td>92.0</td>\n",
       "    </tr>\n",
       "    <tr>\n",
       "      <th>2452</th>\n",
       "      <td>89.0</td>\n",
       "    </tr>\n",
       "    <tr>\n",
       "      <th>3962</th>\n",
       "      <td>86.0</td>\n",
       "    </tr>\n",
       "    <tr>\n",
       "      <th>2862</th>\n",
       "      <td>84.0</td>\n",
       "    </tr>\n",
       "  </tbody>\n",
       "</table>\n",
       "</div>"
      ],
      "text/plain": [
       "          Populer\n",
       "Movie_Id         \n",
       "4306         94.0\n",
       "1905         92.0\n",
       "2452         89.0\n",
       "3962         86.0\n",
       "2862         84.0"
      ]
     },
     "execution_count": 27,
     "metadata": {},
     "output_type": "execute_result"
    }
   ],
   "source": [
    "# Melihat lima film terbaik\n",
    "num_favorable_by_movie = ratings[[\"Movie_Id\", \"Populer\"]].groupby(\"Movie_Id\").sum()\n",
    "num_favorable_by_movie.sort_values(by=\"Populer\", ascending=False).head()"
   ]
  },
  {
   "cell_type": "code",
   "execution_count": 28,
   "metadata": {},
   "outputs": [],
   "source": [
    "# Membuat initial frequent itemset\n",
    "frequent_itemsets = {} \n",
    "min_support = 50"
   ]
  },
  {
   "cell_type": "code",
   "execution_count": 29,
   "metadata": {},
   "outputs": [
    {
     "name": "stdout",
     "output_type": "stream",
     "text": [
      "Terdapat 20 movies dengan lebih dari 50 favorable reviews\n"
     ]
    }
   ],
   "source": [
    "# Membuat itemset dengan setiap film secara individual dan menguji apakah itemset tersebut frekuen\n",
    "# Menggunakan method frozenset\n",
    "frequent_itemsets[1] = dict((frozenset((Movie_Id,)), row[\"Populer\"])\n",
    "                                for Movie_Id, row in num_favorable_by_movie.iterrows()\n",
    "                                if row[\"Populer\"] > min_support)\n",
    "\n",
    "print(\"Terdapat {} movies dengan lebih dari {} favorable reviews\".format(len(frequent_itemsets[1]), min_support))\n"
   ]
  },
  {
   "cell_type": "code",
   "execution_count": 30,
   "metadata": {},
   "outputs": [
    {
     "name": "stdout",
     "output_type": "stream",
     "text": [
      "I found 173 frequent itemsets of length 2\n",
      "I found 770 frequent itemsets of length 3\n",
      "I found 1912 frequent itemsets of length 4\n",
      "I found 2909 frequent itemsets of length 5\n",
      "I found 2799 frequent itemsets of length 6\n",
      "I found 1711 frequent itemsets of length 7\n",
      "I found 657 frequent itemsets of length 8\n",
      "I found 152 frequent itemsets of length 9\n",
      "I found 18 frequent itemsets of length 10\n",
      "I found 1 frequent itemsets of length 11\n",
      "Did not find any frequent itemsets of length 12\n"
     ]
    }
   ],
   "source": [
    "import sys\n",
    "# Mengatur fungsi dan counting dictionary\n",
    "from collections import defaultdict\n",
    "\n",
    "def find_frequent_itemsets(favorable_reviews_by_customers, k_1_itemsets, min_support):\n",
    "    counts = defaultdict(int)\n",
    "\n",
    "# Melakukan iterasi pada semua pengguna dan ulasan mereka\n",
    "    for user, reviews in favorable_reviews_by_customers.items():\n",
    "# Melihat setiap itemset yang ditemukan sebelumnya \n",
    "         for itemset in k_1_itemsets:\n",
    "            if itemset.issubset(reviews):\n",
    "# Membuat superset dari pengguna yang tidak ada dalam itemse\n",
    "                for other_reviewed_movie in reviews - itemset:\n",
    "                    current_superset = itemset | frozenset((other_reviewed_movie,))\n",
    "                    counts[current_superset] += 1\n",
    "# Mengakhiri fungsi kita dengan menguji candidate itemset \n",
    "    return dict([(itemset, frequency) for itemset, frequency in counts.items()\n",
    "                 if frequency >= min_support])\n",
    "# Membuat frequent itemset dan menyimpan mereka di dalam dictionary sesuai dengan panjangnya\n",
    "for k in range(2, 20):\n",
    "    cur_frequent_itemsets = find_frequent_itemsets(favorable_reviews_by_customers,\n",
    "                                                  frequent_itemsets[k-1],\n",
    "                                                  min_support)\n",
    "# Memecah loop sebelumnya jika tidak menemukan frequent itemset yang baru\n",
    "    if len(cur_frequent_itemsets)==0:\n",
    "        print(\"Did not find any frequent itemsets of length {}\".format(k))\n",
    "        sys.stdout.flush()\n",
    "        break\n",
    "        \n",
    "    else:\n",
    "        print(\"I found {} frequent itemsets of length {}\".format(len(cur_frequent_itemsets), k))\n",
    "        frequent_itemsets[k] = cur_frequent_itemsets\n",
    "del frequent_itemsets[1]"
   ]
  },
  {
   "cell_type": "markdown",
   "metadata": {},
   "source": [
    "## Extracting Association Rules"
   ]
  },
  {
   "cell_type": "code",
   "execution_count": 31,
   "metadata": {},
   "outputs": [
    {
     "name": "stdout",
     "output_type": "stream",
     "text": [
      "Terdapat 60435 candidate rules\n"
     ]
    }
   ],
   "source": [
    "# Menghasilkan daftar semua aturan dari masing-masing frequent itemset\n",
    "candidate_rules = []\n",
    "for itemsets_length, itemset_counts in frequent_itemsets.items():\n",
    "    for itemset in itemset_counts.keys():\n",
    "        for conclusion in itemset:\n",
    "            premise = itemset - set((conclusion,))\n",
    "            candidate_rules.append((premise, conclusion))\n",
    "            \n",
    "print(\"Terdapat {} candidate rules\".format(len(candidate_rules)))"
   ]
  },
  {
   "cell_type": "code",
   "execution_count": 32,
   "metadata": {},
   "outputs": [
    {
     "name": "stdout",
     "output_type": "stream",
     "text": [
      "[(frozenset({2452}), 457), (frozenset({457}), 2452), (frozenset({457}), 3624), (frozenset({3624}), 457), (frozenset({2862}), 457)]\n"
     ]
    }
   ],
   "source": [
    "#  elihat beberapa  aturan kandidat dengan mencetak beberapa aturan pertama dalam list\n",
    "print(candidate_rules[:5])"
   ]
  },
  {
   "cell_type": "code",
   "execution_count": 33,
   "metadata": {},
   "outputs": [],
   "source": [
    "#  Menghitung confidence setiap rule tersebut\n",
    "correct_counts = defaultdict(int)\n",
    "incorrect_counts = defaultdict(int)"
   ]
  },
  {
   "cell_type": "code",
   "execution_count": 34,
   "metadata": {},
   "outputs": [],
   "source": [
    "# Melakukan iterasi pada semua pengguna dan favorable reviews mereka dalam setiap candidate association rule\n",
    "for user, reviews in favorable_reviews_by_customers.items():\n",
    "    for candidate_rule in candidate_rules:\n",
    "        premise, conclusion = candidate_rule\n",
    "        if premise.issubset(reviews):\n",
    "            if conclusion in reviews:\n",
    "                correct_counts[candidate_rule] += 1\n",
    "            else:\n",
    "                incorrect_counts[candidate_rule] += 1\n",
    "# Menghitung confidence setiap aturan dengan membagi correct count dengan total aturan tersebut\n",
    "rule_confidence = { candidate_rule: correct_counts[candidate_rule] / \n",
    "               float(correct_counts[candidate_rule] + incorrect_counts[candidate_rule])\n",
    "               for candidate_rule in candidate_rules}"
   ]
  },
  {
   "cell_type": "code",
   "execution_count": 35,
   "metadata": {},
   "outputs": [
    {
     "name": "stdout",
     "output_type": "stream",
     "text": [
      "Rule #1\n",
      "Rule: If a person recommends frozenset({3624, 457, 3962}) they will also recommend 1905\n",
      " - Confidence: 1.000\n",
      "\n",
      "Rule #2\n",
      "Rule: If a person recommends frozenset({457, 3962, 1220}) they will also recommend 1905\n",
      " - Confidence: 1.000\n",
      "\n",
      "Rule #3\n",
      "Rule: If a person recommends frozenset({1962, 2452, 2372}) they will also recommend 1905\n",
      " - Confidence: 1.000\n",
      "\n",
      "Rule #4\n",
      "Rule: If a person recommends frozenset({457, 3962, 571}) they will also recommend 1905\n",
      " - Confidence: 1.000\n",
      "\n",
      "Rule #5\n",
      "Rule: If a person recommends frozenset({4432, 1905, 886}) they will also recommend 2372\n",
      " - Confidence: 1.000\n",
      "\n"
     ]
    }
   ],
   "source": [
    "# Mencetak lima aturan teratas dengan mengurutkan confidence dictionary\n",
    "from operator import itemgetter\n",
    "\n",
    "sorted_confidence = sorted(rule_confidence.items(), key=itemgetter(1), reverse=True)\n",
    "for index in range(5):\n",
    "    print(\"Rule #{0}\".format(index + 1 ))\n",
    "    (premise, conclusion) = sorted_confidence[index][0]\n",
    "    print(\"Rule: If a person recommends {0} they will also recommend {1}\".format(premise, conclusion))\n",
    "    print(\" - Confidence: {0:.3f}\\n\".format(rule_confidence[(premise, conclusion)]))"
   ]
  },
  {
   "cell_type": "code",
   "execution_count": 36,
   "metadata": {},
   "outputs": [
    {
     "name": "stdout",
     "output_type": "stream",
     "text": [
      "Rule #1\n",
      "Rule: If a person recommends The Last Samurai, Kill Bill: Vol. 2, Finding Nemo (Widescreen) they will also recommend 1905\n",
      " - Confidence: 1.000\n",
      "\n",
      "Rule #2\n",
      "Rule: If a person recommends Kill Bill: Vol. 2, Finding Nemo (Widescreen), Man on Fire they will also recommend 1905\n",
      " - Confidence: 1.000\n",
      "\n",
      "Rule #3\n",
      "Rule: If a person recommends 50 First Dates, Lord of the Rings: The Fellowship of the Ring, The Bourne Supremacy they will also recommend 1905\n",
      " - Confidence: 1.000\n",
      "\n",
      "Rule #4\n",
      "Rule: If a person recommends Kill Bill: Vol. 2, Finding Nemo (Widescreen), American Beauty they will also recommend 1905\n",
      " - Confidence: 1.000\n",
      "\n",
      "Rule #5\n",
      "Rule: If a person recommends The Italian Job, Pirates of the Caribbean: The Curse of the Black Pearl, Ray they will also recommend 2372\n",
      " - Confidence: 1.000\n",
      "\n"
     ]
    }
   ],
   "source": [
    "#  mencetak aturan teratas untuk juga menyertakan judul film\n",
    "def get_merge_dataset_title(movie_id):\n",
    "    title_object = merge_dataset_title[merge_dataset_title[\"movie_id\"] == movie_id][\"title\"]\n",
    "    title = title_object.values[0]\n",
    "    return title\n",
    "\n",
    "for index in range(5):\n",
    "    print(\"Rule #{0}\".format(index + 1))\n",
    "    (premise, conclusion) = sorted_confidence[index][0]\n",
    "    premise_names = \", \".join(get_merge_dataset_title(idx) for idx in premise)\n",
    "    conclusion_name = get_merge_dataset_title(conclusion)\n",
    "    print(\"Rule: If a person recommends {0} they will also recommend {1}\".format(premise_names, conclusion))\n",
    "    print(\" - Confidence: {0:.3f}\".format(rule_confidence[(premise, conclusion)]))\n",
    "    print(\"\")"
   ]
  },
  {
   "cell_type": "markdown",
   "metadata": {},
   "source": [
    "# Evaluation"
   ]
  },
  {
   "cell_type": "markdown",
   "metadata": {},
   "source": [
    "Pertama, kita mengekstrak test set, yang merupakan semua recordyang tidak kita gunakan dalam training set. Kita menggunakan  3000 customer pertama  (berdasarkan  nilai  ID)  untuk training  set,  dan kita akan menggunakan sisanya untuk test set. Seperti halnya training set, kita juga akan mendapatkan ulasan yang menarikuntuk masing-masing pengguna dalam dataset ini juga"
   ]
  },
  {
   "cell_type": "markdown",
   "metadata": {},
   "source": [
    "Kita kemudian menghitung instanceyang benar di mana premisnyamengarah ke kesimpulan, dengan cara yang samasepertiyang kita lakukan sebelumnya. Satu-satunya perubahan di sini adalah penggunaan data uji dan bukan data pelatihan."
   ]
  },
  {
   "cell_type": "code",
   "execution_count": 45,
   "metadata": {},
   "outputs": [],
   "source": [
    "test_dataset = merge_dataset[merge_dataset['Cust_Id'].isin(range(3000))]\n",
    "test_populer = test_dataset[test_dataset[\"Populer\"]]\n",
    "test_populer_by_cust = dict((k, frozenset(v.values))\n",
    "    for k, v in test_populer.groupby(\"Cust_Id\")[\"Movie_Id\"])\n",
    "\n",
    "correct_counts=defaultdict(int)\n",
    "incorrect_counts=defaultdict(int)\n",
    "for user, reviews in test_populer_by_cust.items():\n",
    "    for candidate_rule in candidate_rules:\n",
    "        premise,conclusion=candidate_rule\n",
    "        \n",
    "        if premise.issubset(reviews):\n",
    "            if conclusion in reviews:\n",
    "                correct_counts[candidate_rule]+=1\n",
    "            else:\n",
    "                incorrect_counts[candidate_rule]+=1"
   ]
  },
  {
   "cell_type": "code",
   "execution_count": 46,
   "metadata": {},
   "outputs": [
    {
     "name": "stdout",
     "output_type": "stream",
     "text": [
      "Rule #1\n",
      "Rule : if a person recommends The Last Samurai, Kill Bill: Vol. 2, Finding Nemo (Widescreen) they will also recommend Pirates of the Caribbean: The Curse of the Black Pearl\n",
      " - Train confidence: 1.000\n",
      "- Test Confidence: 1.000\n",
      "\n",
      "Rule #2\n",
      "Rule : if a person recommends Kill Bill: Vol. 2, Finding Nemo (Widescreen), Man on Fire they will also recommend Pirates of the Caribbean: The Curse of the Black Pearl\n",
      " - Train confidence: 1.000\n",
      "- Test Confidence: 1.000\n",
      "\n",
      "Rule #3\n",
      "Rule : if a person recommends 50 First Dates, Lord of the Rings: The Fellowship of the Ring, The Bourne Supremacy they will also recommend Pirates of the Caribbean: The Curse of the Black Pearl\n",
      " - Train confidence: 1.000\n",
      "- Test Confidence: 1.000\n",
      "\n",
      "Rule #4\n",
      "Rule : if a person recommends Kill Bill: Vol. 2, Finding Nemo (Widescreen), American Beauty they will also recommend Pirates of the Caribbean: The Curse of the Black Pearl\n",
      " - Train confidence: 1.000\n",
      "- Test Confidence: 1.000\n",
      "\n",
      "Rule #5\n",
      "Rule : if a person recommends The Italian Job, Pirates of the Caribbean: The Curse of the Black Pearl, Ray they will also recommend The Bourne Supremacy\n",
      " - Train confidence: 1.000\n",
      "- Test Confidence: 1.000\n",
      "\n"
     ]
    }
   ],
   "source": [
    "#Kemudian,kita hitung confidencesetiap aturan dari jumlah yang benar (correct_counts).\n",
    "test_confidence = {candidate_rule:\n",
    "                  (correct_counts[candidate_rule] / \n",
    "                  float(correct_counts[candidate_rule] + incorrect_counts[candidate_rule]))\n",
    "                  for candidate_rule in rule_confidence}\n",
    "\n",
    "#mencetak aturan asosiasi terbaik dengan judul.\n",
    "for index in range(5):\n",
    "    print(\"Rule #{0}\".format(index + 1))\n",
    "    (premise, conclusion) = sorted_confidence[index][0]\n",
    "    premise_names = \", \".join(get_merge_dataset_title(idx) for idx in premise)\n",
    "    conclusion_name = get_merge_dataset_title(conclusion)\n",
    "    print(\"Rule : if a person recommends {0} they will also recommend {1}\"\n",
    "         .format(premise_names, conclusion_name))\n",
    "    print(\" - Train confidence: {0:.3f}\".format(rule_confidence.get((premise, conclusion), -1)))\n",
    "    print(\"- Test Confidence: {0:.3f}\\n\".format(test_confidence.get((premise, conclusion), -1)))"
   ]
  },
  {
   "cell_type": "code",
   "execution_count": null,
   "metadata": {},
   "outputs": [],
   "source": []
  }
 ],
 "metadata": {
  "kernelspec": {
   "display_name": "Python 3",
   "language": "python",
   "name": "python3"
  },
  "language_info": {
   "codemirror_mode": {
    "name": "ipython",
    "version": 3
   },
   "file_extension": ".py",
   "mimetype": "text/x-python",
   "name": "python",
   "nbconvert_exporter": "python",
   "pygments_lexer": "ipython3",
   "version": "3.6.5"
  }
 },
 "nbformat": 4,
 "nbformat_minor": 2
}
